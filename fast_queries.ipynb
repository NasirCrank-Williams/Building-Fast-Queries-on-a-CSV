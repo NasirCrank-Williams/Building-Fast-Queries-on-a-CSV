{
 "cells": [
  {
   "cell_type": "markdown",
   "metadata": {},
   "source": [
    "# Building Fast Queries On Laptop Data\n",
    "\n",
    "Data taken from https://www.kaggle.com/ionaskel/laptop-prices."
   ]
  },
  {
   "cell_type": "markdown",
   "metadata": {},
   "source": [
    "## Build Class For Lookup"
   ]
  },
  {
   "cell_type": "code",
   "execution_count": 2,
   "metadata": {
    "collapsed": false
   },
   "outputs": [],
   "source": [
    "import csv\n",
    "\n",
    "class Inventory():\n",
    "    \n",
    "    def __init__(self, csv_filename):\n",
    "        \n",
    "        with open(csv_filename) as f:\n",
    "            reader = csv.reader(f)\n",
    "            rows = list(reader)\n",
    "            self.header = rows[0]\n",
    "            self.rows = rows[1:]\n",
    "            \n",
    "            # convert price column to integer\n",
    "            for row in self.rows:\n",
    "                row[-1] = int(row[-1])\n",
    "                \n",
    "            # {key:value} == {laptop id: row}\n",
    "            self.id_to_row = {}\n",
    "            \n",
    "            for row in self.rows:\n",
    "                self.id_to_row[row[0]] = row\n",
    "            \n",
    "            # set containing prices of all laptops\n",
    "            self.prices = set()\n",
    "            \n",
    "            for row in self.rows:\n",
    "                self.prices.add(row[-1])\n",
    "                \n",
    "            # sort rows by price    \n",
    "            def row_price(row):\n",
    "                return row[-1]\n",
    "                \n",
    "            self.rows_by_price = sorted(self.rows, key=row_price)\n",
    "    \n",
    "    # return row of laptop (argument = laptop id) \n",
    "    # O(N) Time Complexity\n",
    "    def get_laptop_from_id(self, laptop_id):\n",
    "        \n",
    "        for row in self.rows:\n",
    "            \n",
    "            if laptop_id == row[0]:\n",
    "                return row\n",
    "        \n",
    "        return None\n",
    "    \n",
    "    # return row of laptop when given identifier or id \n",
    "    # O(1) Time Complexity\n",
    "    def get_laptop_from_id_fast(self, laptop_id):\n",
    "        \n",
    "        if laptop_id in self.id_to_row:\n",
    "            return self.id_to_row[laptop_id]\n",
    "        \n",
    "        return None\n",
    "    \n",
    "    # return True if 1-2 laptops can be bought using exact dollars given\n",
    "    # O(N^2) Time Complexity\n",
    "    def check_promotion_dollars(self, dollars):\n",
    "        \n",
    "        for x in range(len(self.rows)):\n",
    "            \n",
    "            if self.rows[x][-1] == dollars:\n",
    "                return True\n",
    "            \n",
    "            for y in range(x, len(self.rows)):\n",
    "                \n",
    "                if self.rows[x][-1] + self.rows[y][-1] == dollars:\n",
    "                    return True\n",
    "                \n",
    "        return False\n",
    "    \n",
    "    # return True if 1-2 laptops can be bought using exact dollars given\n",
    "    # O(N) Time Complexity\n",
    "    def check_promotion_dollars_fast(self, dollars):\n",
    "        \n",
    "        if dollars in self.prices:\n",
    "            return True\n",
    "        \n",
    "        for price in self.prices:\n",
    "            \n",
    "            if (dollars - price) in self.prices:\n",
    "                return True\n",
    "            \n",
    "        return False\n",
    "    \n",
    "    # return sorted row index of the first more expensive laptop given price\n",
    "    # Nlog(N) Time Complexity\n",
    "    def find_first_laptop_more_expensive(self, price):\n",
    "        left_index = 0\n",
    "        right_index = len(self.rows_by_price) - 1\n",
    "        \n",
    "        while left_index <= right_index:\n",
    "            mid_index = (left_index + right_index) // 2\n",
    "            mid_price = self.rows_by_price[mid_index][-1]\n",
    "            \n",
    "            if mid_price == price:\n",
    "                \n",
    "                for x in range(mid_index, len(self.rows_by_price)):\n",
    "                    \n",
    "                    if self.rows_by_price[x][-1] > price:\n",
    "                        return x\n",
    "                \n",
    "                break\n",
    "            elif mid_price > price:\n",
    "                right_index = mid_index - 1 \n",
    "            else:\n",
    "                left_index = mid_index + 1\n",
    "                \n",
    "        return -1"
   ]
  },
  {
   "cell_type": "markdown",
   "metadata": {},
   "source": [
    "## Initialize Class"
   ]
  },
  {
   "cell_type": "code",
   "execution_count": 3,
   "metadata": {
    "collapsed": true
   },
   "outputs": [],
   "source": [
    "inv = Inventory(\"laptops.csv\")"
   ]
  },
  {
   "cell_type": "markdown",
   "metadata": {},
   "source": [
    "## Speed Test\n",
    "\n",
    "* get_laptop_from_id\n",
    "* get_laptop_from_id_fast"
   ]
  },
  {
   "cell_type": "code",
   "execution_count": 4,
   "metadata": {
    "collapsed": false
   },
   "outputs": [
    {
     "name": "stdout",
     "output_type": "stream",
     "text": [
      "1.3705182075500488\n",
      "0.0060694217681884766\n"
     ]
    }
   ],
   "source": [
    "import time\n",
    "import random\n",
    "\n",
    "ids = [str(random.randint(1000000, 9999999)) for _ in range(10000)]\n",
    "\n",
    "total_time_no_dict = 0\n",
    "\n",
    "for val in ids:\n",
    "    start = time.time()\n",
    "    inv.get_laptop_from_id(val)\n",
    "    end = time.time()\n",
    "    total_time_no_dict += end - start\n",
    "    \n",
    "total_time_dict = 0\n",
    "\n",
    "for val in ids:\n",
    "    start = time.time()\n",
    "    inv.get_laptop_from_id_fast(val)\n",
    "    end = time.time()\n",
    "    total_time_dict += end - start\n",
    "    \n",
    "print(total_time_no_dict)\n",
    "print(total_time_dict)"
   ]
  },
  {
   "cell_type": "markdown",
   "metadata": {},
   "source": [
    "## Speed Test\n",
    "\n",
    "* check_promotion_dollars\n",
    "* check_promotion_dollars_fast"
   ]
  },
  {
   "cell_type": "code",
   "execution_count": 5,
   "metadata": {
    "collapsed": false
   },
   "outputs": [
    {
     "name": "stdout",
     "output_type": "stream",
     "text": [
      "2.4370601177215576\n",
      "0.0009052753448486328\n"
     ]
    }
   ],
   "source": [
    "prices = [random.randint(100, 5000) for _ in range(100)]\n",
    "\n",
    "total_time_no_set = 0\n",
    "\n",
    "for val in prices:\n",
    "    start = time.time()\n",
    "    inv.check_promotion_dollars(val)\n",
    "    end = time.time()\n",
    "    total_time_no_set += end - start\n",
    "    \n",
    "total_time_set = 0\n",
    "\n",
    "for val in prices:\n",
    "    start = time.time()\n",
    "    inv.check_promotion_dollars_fast(val)\n",
    "    end = time.time()\n",
    "    total_time_set += end - start\n",
    "    \n",
    "print(total_time_no_set)\n",
    "print(total_time_set)"
   ]
  }
 ],
 "metadata": {
  "kernelspec": {
   "display_name": "Python 3",
   "language": "python",
   "name": "python3"
  },
  "language_info": {
   "codemirror_mode": {
    "name": "ipython",
    "version": 3
   },
   "file_extension": ".py",
   "mimetype": "text/x-python",
   "name": "python",
   "nbconvert_exporter": "python",
   "pygments_lexer": "ipython3",
   "version": "3.4.3"
  }
 },
 "nbformat": 4,
 "nbformat_minor": 2
}
